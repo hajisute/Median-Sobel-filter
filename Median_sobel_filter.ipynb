{
 "cells": [
  {
   "cell_type": "code",
   "execution_count": 117,
   "metadata": {},
   "outputs": [],
   "source": [
    "from PIL import Image\n",
    "from PIL import ImageChops\n",
    "import numpy as np\n",
    "from copy import deepcopy"
   ]
  },
  {
   "cell_type": "code",
   "execution_count": 118,
   "metadata": {},
   "outputs": [],
   "source": [
    "#medianフィルタ処理で使う関数群ーモノクロとカラー画像に対応\n",
    "def sort_row(array):\n",
    "    \n",
    "    if len(array.shape) == 3:    \n",
    "        for row in np.arange(0, array.shape[0]):\n",
    "            for col in np.arange(0, array.shape[1]):\n",
    "                for col_cmp in np.arange(0, col):\n",
    "                    if array[row, col, 0] > array[row, col_cmp, 0]:\n",
    "                        array[row, col, :], array[row, col_cmp, :] = deepcopy(array[row, col_cmp, :]), deepcopy(array[row, col, :])\n",
    "    elif len(imgarray.shape) == 2 :\n",
    "         for row in np.arange(0, array.shape[0]):\n",
    "            for col in np.arange(0, array.shape[1]):\n",
    "                for col_cmp in np.arange(0, col):\n",
    "                    if array[row, col] > array[row, col_cmp]:\n",
    "                        array[row, col], array[row, col_cmp] = deepcopy(array[row, col_cmp]), deepcopy(array[row, col])\n",
    "    else:\n",
    "        raise Exception(\"argument must be 3 or 2 axis array!\")\n",
    "                    \n",
    "            \n",
    "def sort_col(array):\n",
    "        \n",
    "    if len(array.shape) == 3: \n",
    "        for row in np.arange(0, array.shape[0]):\n",
    "            for row_cmp in np.arange(0, row):\n",
    "                if array[row, 0] > array[row_cmp, 0]:\n",
    "                    array[row, :], array[row_cmp, :] = deepcopy(array[row, :]), deepcopy(array[row_cmp, :])\n",
    "    elif len(imgarray.shape) == 2 :\n",
    "        for row in np.arange(0, array.shape[0]):\n",
    "            for row_cmp in np.arange(0, row):\n",
    "                if array[row] > array[row_cmp]:\n",
    "                    array[row], array[row_cmp] = deepcopy(array[row]), deepcopy(array[row_cmp])\n",
    "    else:\n",
    "        raise Exception(\"argument must be 3 or 2 axis array!\")      \n",
    "     \n",
    "    \n",
    "    \n",
    "def medianfilter(srcimg, dstimg):\n",
    "    colsum = srcimg.shape[1]-6\n",
    "    for col in np.arange(3, srcimg.shape[1]-3):\n",
    "        for row in np.arange(3, srcimg.shape[0]-3):\n",
    "            \n",
    "            #進捗％を出力\n",
    "            print(\"\\r{0:d}% progress...\".format(int(col*100/colsum)), end=\"\")\n",
    "\n",
    "            #ウィンドウ部分を行列に抽出\n",
    "            window = deepcopy(srcimg[row-3:row+4, col-3:col+4])\n",
    "\n",
    "            #フィルタウィンドウを行でソートする\n",
    "            sort_row(window)\n",
    "\n",
    "            #ウィンドウの3列目(各行の中央値)を抽出\n",
    "            medians_row = deepcopy(window[:,3])\n",
    "\n",
    "            #列でソートする\n",
    "            sort_col(medians_row)\n",
    "\n",
    "            #中央値を抽出・書き込み\n",
    "            dstimg[row,col] = deepcopy(medians_row[3])\n",
    "            \n",
    "def sobelfilter(srcimg, dstimg):   \n",
    "    for col in np.arange(3, srcimg.shape[1]-3):\n",
    "        for row in np.arange(3, srcimg.shape[0]-3):\n",
    "\n",
    "            #ウィンドウを抽出\n",
    "            window = deepcopy(srcimg[row-1:row+2, col-1:col+2])\n",
    "\n",
    "            #ウィンドウとsobelフィルタを要素ごとに掛け合わせて足し、絶対値をとる\n",
    "            dx = np.multiply(window, sobel_x).sum()\n",
    "            dy = np.multiply(window, sobel_y).sum()\n",
    "            #渡部：FPGA上の実装と合わせました。\n",
    "            #---------------変更点はここから--------------------\n",
    "            dx /= 4.0\n",
    "            dy /= 4.0\n",
    "            # dstimg[row, col, :] = np.sqrt(dx * dx + dy * dy)\n",
    "            dstimg[row, col] = (abs(dx) + abs(dy)) / 2\n",
    "            #----------------ここまで-----------------------------\n",
    "            ##境界線抽出 !!本来のSobelフィルタの機能にはない操作 きょっきょが勝手に追加した\n",
    "            #dxy = 255 - (dx + dy)\n",
    "            #dstimg[row, col, :] = dxy if (dxy < 50) else 255\n",
    "\n",
    "            \n",
    "sobel_x = np.array([\n",
    "    [-1, 0, 1],\n",
    "    [-2, 0, 2],\n",
    "    [-1, 0, 1]    \n",
    "])\n",
    "\n",
    "sobel_y = np.array([\n",
    "    [-1, -2, -1],\n",
    "    [ 0,  0,  0],\n",
    "    [ 1,  2,  1]    \n",
    "])"
   ]
  },
  {
   "cell_type": "code",
   "execution_count": 119,
   "metadata": {},
   "outputs": [],
   "source": [
    "# 処理のための準備\n",
    "\n",
    "## 画像読み込み\n",
    "img = Image.open(\"sample.jpg\")\n",
    "## モノクロ画像に変換\n",
    "img = img.convert('L')\n",
    "\n",
    "## 画像の周りに3pxのパディングを追加\n",
    "imgarray = np.asarray(img)\n",
    "for i in np.arange(0,3):\n",
    "    imgarray = np.insert(imgarray, 0, 0, 0)\n",
    "for i in np.arange(0,3):\n",
    "    imgarray = np.insert(imgarray, 0, 0, 1)\n",
    "for i in np.arange(0,3):\n",
    "    imgarray = np.insert(imgarray, imgarray.shape[1], 0, 1)\n",
    "for i in np.arange(0,3):\n",
    "    imgarray = np.insert(imgarray, imgarray.shape[0], 0, 0)"
   ]
  },
  {
   "cell_type": "code",
   "execution_count": null,
   "metadata": {},
   "outputs": [
    {
     "name": "stdout",
     "output_type": "stream",
     "text": [
      "4% progress..."
     ]
    }
   ],
   "source": [
    "# メディアンフィルタモジュール\n",
    "\n",
    "## フィルタ後の画像を書き込むため、imgarrayのコピーを作成\n",
    "imgarray_median = deepcopy(imgarray)\n",
    "\n",
    "## 各ピクセルについて7×7メディアンフィルタをかける\n",
    "medianfilter(imgarray, imgarray_median)"
   ]
  },
  {
   "cell_type": "code",
   "execution_count": null,
   "metadata": {},
   "outputs": [],
   "source": [
    "# Sobelフィルタモジュール\n",
    "\n",
    "IMG_OPACITY = 1\n",
    "FIL_OPACITY = 1 / 7\n",
    "\n",
    "\n",
    "## フィルタ後の画像を書き込むため、imgarray_medianのコピーを作成\n",
    "imgarray_median_sobel = deepcopy(imgarray_median)\n",
    "\n",
    "## 各ピクセルについて3×3 Sobelフィルタをかける\n",
    "sobelfilter(imgarray, imgarray_median_sobel)"
   ]
  },
  {
   "cell_type": "code",
   "execution_count": null,
   "metadata": {},
   "outputs": [],
   "source": [
    "# 画像の合成\n",
    "\n",
    "## 比較（暗）合成…画像を比較して暗い方を採用\n",
    "img_composited = ImageChops.darker(Image.fromarray(imgarray_median), \n",
    "                                   Image.fromarray((255-imgarray_median_sobel)))\n",
    "\n",
    "## [渡部]マスク用のImageを作って合成\n",
    "#ref:https://note.nkmk.me/python-pillow-composite/\n",
    "# mask = Image.new(\"L\", Image.fromarray(imgarray).size,  145 )\n",
    "#result = composte(img1, img2, mask) は以下と等価。\n",
    "#result = mask / 255 * image1 + (1 - mask / 255 ) * image2\n",
    "#img_composited = Image.composite(Image.fromarray(imgarray_median), Image.fromarray(255 - imgarray_median_sobel),mask)"
   ]
  },
  {
   "cell_type": "code",
   "execution_count": null,
   "metadata": {},
   "outputs": [],
   "source": [
    "# 画像表示\n",
    "\n",
    "img_original = Image.fromarray(imgarray)\n",
    "img_median = Image.fromarray(imgarray_median)\n",
    "img_med_sobel = Image.fromarray(255 - imgarray_median_sobel)\n",
    "img_original.show()\n",
    "img_composited.show()"
   ]
  }
 ],
 "metadata": {
  "kernelspec": {
   "display_name": "Python 3",
   "language": "python",
   "name": "python3"
  },
  "language_info": {
   "codemirror_mode": {
    "name": "ipython",
    "version": 3
   },
   "file_extension": ".py",
   "mimetype": "text/x-python",
   "name": "python",
   "nbconvert_exporter": "python",
   "pygments_lexer": "ipython3",
   "version": "3.7.1"
  }
 },
 "nbformat": 4,
 "nbformat_minor": 2
}
